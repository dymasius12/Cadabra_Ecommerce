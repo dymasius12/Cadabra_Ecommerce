{
 "cells": [
  {
   "cell_type": "code",
   "execution_count": 1,
   "id": "acf22221",
   "metadata": {},
   "outputs": [],
   "source": [
    "import numpy as np"
   ]
  },
  {
   "cell_type": "code",
   "execution_count": 7,
   "id": "a17041f0",
   "metadata": {},
   "outputs": [],
   "source": [
    "grades = [[79,95,60],[95,60,61],[99,67,84],[1,2,3],[4,5,6],[7,8,9],[10,11,12],[13,14,15],[16,17,18]]"
   ]
  },
  {
   "cell_type": "code",
   "execution_count": 9,
   "id": "720ffccf",
   "metadata": {},
   "outputs": [],
   "source": [
    "gArray = np.array(grades)"
   ]
  },
  {
   "cell_type": "code",
   "execution_count": 10,
   "id": "b971155f",
   "metadata": {},
   "outputs": [
    {
     "name": "stdout",
     "output_type": "stream",
     "text": [
      "60\n"
     ]
    }
   ],
   "source": [
    "print(gArray[0,2])"
   ]
  },
  {
   "cell_type": "code",
   "execution_count": 11,
   "id": "f7796d35",
   "metadata": {},
   "outputs": [
    {
     "data": {
      "text/plain": [
       "60"
      ]
     },
     "execution_count": 11,
     "metadata": {},
     "output_type": "execute_result"
    }
   ],
   "source": [
    "grades[0][2]"
   ]
  },
  {
   "cell_type": "code",
   "execution_count": 15,
   "id": "2e05b6ac",
   "metadata": {},
   "outputs": [
    {
     "name": "stdout",
     "output_type": "stream",
     "text": [
      "[[79 95 60]\n",
      " [95 60 61]\n",
      " [99 67 84]\n",
      " [ 1  2  3]\n",
      " [ 4  5  6]\n",
      " [ 7  8  9]\n",
      " [10 11 12]\n",
      " [13 14 15]\n",
      " [16 17 18]]\n"
     ]
    }
   ],
   "source": [
    "print(gArray)"
   ]
  },
  {
   "cell_type": "code",
   "execution_count": 13,
   "id": "be0c8ddb",
   "metadata": {},
   "outputs": [
    {
     "name": "stdout",
     "output_type": "stream",
     "text": [
      "[[79 60]\n",
      " [95 61]]\n"
     ]
    }
   ],
   "source": [
    "print(gArray[:2,[0,2]])"
   ]
  },
  {
   "cell_type": "code",
   "execution_count": 14,
   "id": "e8958fe1",
   "metadata": {},
   "outputs": [
    {
     "name": "stdout",
     "output_type": "stream",
     "text": [
      "[79 84]\n"
     ]
    }
   ],
   "source": [
    "print(gArray[[0,2],[0,2]])"
   ]
  },
  {
   "cell_type": "code",
   "execution_count": null,
   "id": "3959a435",
   "metadata": {},
   "outputs": [],
   "source": []
  }
 ],
 "metadata": {
  "kernelspec": {
   "display_name": "Python 3 (ipykernel)",
   "language": "python",
   "name": "python3"
  },
  "language_info": {
   "codemirror_mode": {
    "name": "ipython",
    "version": 3
   },
   "file_extension": ".py",
   "mimetype": "text/x-python",
   "name": "python",
   "nbconvert_exporter": "python",
   "pygments_lexer": "ipython3",
   "version": "3.9.16"
  }
 },
 "nbformat": 4,
 "nbformat_minor": 5
}
